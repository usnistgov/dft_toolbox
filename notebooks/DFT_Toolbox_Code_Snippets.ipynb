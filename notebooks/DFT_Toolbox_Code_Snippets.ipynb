{
  "nbformat": 4,
  "nbformat_minor": 0,
  "metadata": {
    "colab": {
      "name": "DFT_Toolbox_Code_Snippets.ipynb",
      "provenance": [],
      "collapsed_sections": []
    },
    "kernelspec": {
      "name": "python3",
      "display_name": "Python 3"
    },
    "language_info": {
      "name": "python"
    }
  },
  "cells": [
    {
      "cell_type": "markdown",
      "source": [
        "# Imports"
      ],
      "metadata": {
        "id": "O0cbQvCs4W_4"
      }
    },
    {
      "cell_type": "code",
      "source": [
        "import dft_toolbox as dft\n",
        "import numpy as np\n",
        "import scipy.stats as st\n",
        "import glob\n",
        "import matplotlib.pyplot as plt"
      ],
      "metadata": {
        "id": "XaWLJdUL4ad6"
      },
      "execution_count": null,
      "outputs": []
    },
    {
      "cell_type": "markdown",
      "source": [
        "# Create G16 Input Files"
      ],
      "metadata": {
        "id": "PlYuLpqm4lNK"
      }
    },
    {
      "cell_type": "markdown",
      "source": [
        "Variables"
      ],
      "metadata": {
        "id": "FQgTF9MS4tDK"
      }
    },
    {
      "cell_type": "code",
      "source": [
        "nodes = 5\n",
        "mem = 91\n",
        "partition = \"mpiqdr\"\n",
        "\n",
        "GasRouteSection = \"rb3lyp/aug-cc-pvdz empiricaldispersion=gd3 int(grid=ultrafine, acc2e=11) scf=(tight,maxcycles=500) iop(1/152=1000) opt=(maxcycles=1000,cartesian) freq=noraman nosymm\"\n",
        "# opt=(maxstep=1) iop(1/8=1)\n",
        "PCMRouteSection = \"geom=check rb3lyp-aug-cc-pvdz empiricaldispersion=gd3 int(grid=ultrafine, acc2e=11) scf=(tight,maxcycles=500) scrf=(iefpcm,solvent=water,externaliteration,1stvac,read) nosymm\""
      ],
      "metadata": {
        "id": "JXtx70By4okK"
      },
      "execution_count": null,
      "outputs": []
    },
    {
      "cell_type": "markdown",
      "source": [
        "Loop through files"
      ],
      "metadata": {
        "id": "6fXkRAIO46ho"
      }
    },
    {
      "cell_type": "code",
      "source": [
        "coordFiles = glob.glob(\"*.xyz\")\n",
        "for num, coordFile in enumerate(coordFiles):\n",
        "  dft.create_g16_input(\n",
        "    fname=f\"sim{num:03}\",\n",
        "    GasRouteSection=GasRouteSection,\n",
        "    PCMRouteSection=PCMRouteSection,\n",
        "    coordFile=coordFile\n",
        "  )\n",
        "  dft.create_slurm_script(\n",
        "    fname=f\"sim{num:03}\",\n",
        "    nodes=nodes,\n",
        "    mem=mem,\n",
        "    partition=partition\n",
        "  )"
      ],
      "metadata": {
        "id": "3LM3NXpQ4_Br"
      },
      "execution_count": null,
      "outputs": []
    },
    {
      "cell_type": "markdown",
      "source": [
        "# Create Arkane Input Files"
      ],
      "metadata": {
        "id": "Ot4qIcbf5iVF"
      }
    },
    {
      "cell_type": "markdown",
      "source": [
        "Loop through files"
      ],
      "metadata": {
        "id": "5SsBVLlu5oEO"
      }
    },
    {
      "cell_type": "code",
      "source": [
        "freqOutput = glob.glob(\"*_gas.log\")\n",
        "PCMOutput = glob.glob(\"*_PCM.log\")\n",
        "\n",
        "for i in range(len(freqOutput)):\n",
        "    dft.create_arkane_input(\n",
        "      f\"sim{i:03}\",\n",
        "      freq_log=freqOutput[i],\n",
        "      #pcm_log=PCMOutput[i],\n",
        "      linear=False,\n",
        "      spinMultiplicity=1,\n",
        "      opticalIsomers=1\n",
        "    )"
      ],
      "metadata": {
        "id": "PjcT4bCS5mfn"
      },
      "execution_count": null,
      "outputs": []
    },
    {
      "cell_type": "markdown",
      "source": [
        "# pQCT Example"
      ],
      "metadata": {
        "id": "fHGloijk6bxT"
      }
    },
    {
      "cell_type": "markdown",
      "source": [
        "Preliminary variables"
      ],
      "metadata": {
        "id": "FuRKcZGh6gJy"
      }
    },
    {
      "cell_type": "code",
      "source": [
        "n_water = [] # shape (N,)\n",
        "temperatures = np.linspace(10, 50, num=20) + 273.15 # shape (20,)"
      ],
      "metadata": {
        "id": "7R8WjztR6dyg"
      },
      "execution_count": null,
      "outputs": []
    },
    {
      "cell_type": "markdown",
      "source": [
        "Loop through temps and do gas-phase thermo calc"
      ],
      "metadata": {
        "id": "eXiWh_Ki6kAP"
      }
    },
    {
      "cell_type": "code",
      "source": [
        "# shape (20,)\n",
        "G_water = []\n",
        "H_water = []\n",
        "S_water = []\n",
        "\n",
        "# shape (20,)\n",
        "G_Na = []\n",
        "H_Na = []\n",
        "S_Na = []\n",
        "\n",
        "# shape (20,N)\n",
        "G_clusters = []\n",
        "H_clusters = []\n",
        "S_clusters = []"
      ],
      "metadata": {
        "id": "Ps6qpK8t6tUm"
      },
      "execution_count": null,
      "outputs": []
    },
    {
      "cell_type": "code",
      "source": [
        "for temp in temperatures:\n",
        "  # water\n",
        "  values = dft.calc_thermo_Arkane(\"templates/refChem.inp\", temp=temp)[1] # H2O\n",
        "  G_water.append(values[3])\n",
        "  H_water.append(values[1])\n",
        "  S_water.append(values[2])\n",
        "  \n",
        "  # ion\n",
        "  values = dft.calc_thermo_Arkane(\"templates/refChem.inp\", temp=temp)[2] # Na+\n",
        "  G_water.append(values[3])\n",
        "  H_water.append(values[1])\n",
        "  S_water.append(values[2])\n",
        "  \n",
        "  # cluster\n",
        "  values = dft.calc_thermo_Arkane(\"templates/clustersChem.inp\", temp=temp) # shape (N,4)\n",
        "  values = np.transpose(values) # shape (4,N)\n",
        "  G_clusters.append(values[3])\n",
        "  H_clusters.append(values[1])\n",
        "  S_clusters.append(values[2])"
      ],
      "metadata": {
        "id": "sBMbpZGq6yCB"
      },
      "execution_count": null,
      "outputs": []
    },
    {
      "cell_type": "code",
      "source": [
        "G_water = np.array(G_water)\n",
        "H_water = np.array(H_water)\n",
        "S_water = np.array(S_water)    \n",
        "\n",
        "G_Na = np.array(G_Na)\n",
        "H_Na = np.array(H_Na)\n",
        "S_Na = np.array(S_Na)"
      ],
      "metadata": {
        "id": "LCd9xfKl632u"
      },
      "execution_count": null,
      "outputs": []
    },
    {
      "cell_type": "markdown",
      "source": [
        "Extract PCM solvation energies"
      ],
      "metadata": {
        "id": "VBS3CtLE66-c"
      }
    },
    {
      "cell_type": "code",
      "source": [
        "cluster_PCM_dG = [dGSolvPCM(fname) for fname in PCMOutput]\n",
        "H2O_PCM_dG = dGSolvPCM(\"H2O_PCM.log\")"
      ],
      "metadata": {
        "id": "U_jlrGLy6_U-"
      },
      "execution_count": null,
      "outputs": []
    },
    {
      "cell_type": "markdown",
      "source": [
        "Free energy **in solution**"
      ],
      "metadata": {
        "id": "scWxYGp07G6_"
      }
    },
    {
      "cell_type": "code",
      "source": [
        "G_aq_283K = [calc_pQCT(G_cluster[0][i], G_water[0], cluster_PCM_dG[0], n_water, dG_solv_H2O=H2O_PCM_dG, temp=temperatures[0])]"
      ],
      "metadata": {
        "id": "oFswYA307KeR"
      },
      "execution_count": null,
      "outputs": []
    },
    {
      "cell_type": "markdown",
      "source": [
        "Free energy **of solvation**"
      ],
      "metadata": {
        "id": "_lw61SvF7MrX"
      }
    },
    {
      "cell_type": "code",
      "source": [
        "dG_solv_283K = G_aq_283K - G_Na[0] - (R * temperatures[0] * np.log(24.46)) # shape (N,)"
      ],
      "metadata": {
        "id": "LumYk_yw7PFB"
      },
      "execution_count": null,
      "outputs": []
    },
    {
      "cell_type": "markdown",
      "source": [
        "Boltzmann Averaging and Bootstrapping"
      ],
      "metadata": {
        "id": "kybT-CE57Vdc"
      }
    },
    {
      "cell_type": "code",
      "source": [
        "R = 0.0019872042586408316  # kcal/(mol*K)\n",
        "beta = [1/(R*temperatures[0]) for i in range(len(dG_solv_283K))]"
      ],
      "metadata": {
        "id": "iozyydtB7cOb"
      },
      "execution_count": null,
      "outputs": []
    },
    {
      "cell_type": "code",
      "source": [
        "mid = boltzmannG(dG_solv_283K,beta)\n",
        "bootstrappedCI = st.bootstrap((dG_solv_283K,beta),boltzmannG,paired=True,vectorized=False,n_resamples=10000)\n",
        "lowerBar = bootstrappedCI.confidence_interval[1]-mid\n",
        "upperBar = mid-bootstrappedCI.confidence_interval[0]"
      ],
      "metadata": {
        "id": "_2WmONnP7lLe"
      },
      "execution_count": null,
      "outputs": []
    }
  ]
}