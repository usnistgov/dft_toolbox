{
 "cells": [
  {
   "cell_type": "markdown",
   "metadata": {
    "id": "O0cbQvCs4W_4"
   },
   "source": [
    "# Imports"
   ]
  },
  {
   "cell_type": "code",
   "execution_count": 1,
   "metadata": {
    "id": "XaWLJdUL4ad6"
   },
   "outputs": [],
   "source": [
    "import dft_toolbox as dft\n",
    "import numpy as np\n",
    "import scipy.stats as st\n",
    "import glob\n",
    "import matplotlib.pyplot as plt"
   ]
  },
  {
   "cell_type": "markdown",
   "metadata": {
    "id": "PlYuLpqm4lNK"
   },
   "source": [
    "# Create G16 Input Files"
   ]
  },
  {
   "cell_type": "markdown",
   "metadata": {
    "id": "FQgTF9MS4tDK"
   },
   "source": [
    "Variables"
   ]
  },
  {
   "cell_type": "code",
   "execution_count": 2,
   "metadata": {
    "id": "JXtx70By4okK"
   },
   "outputs": [],
   "source": [
    "nodes = 5\n",
    "mem = 91\n",
    "partition = \"mpiqdr\"\n",
    "\n",
    "GasRouteSection = \"rb3lyp/aug-cc-pvdz empiricaldispersion=gd3 int(grid=ultrafine, acc2e=11) scf=(tight,maxcycles=500) iop(1/152=1000) opt=(maxcycles=1000,cartesian) freq=noraman nosymm\"\n",
    "# opt=(maxstep=1) iop(1/8=1)\n",
    "PCMRouteSection = \"geom=check rb3lyp-aug-cc-pvdz empiricaldispersion=gd3 int(grid=ultrafine, acc2e=11) scf=(tight,maxcycles=500) scrf=(iefpcm,solvent=water,externaliteration,1stvac,read) nosymm\""
   ]
  },
  {
   "cell_type": "markdown",
   "metadata": {
    "id": "6fXkRAIO46ho"
   },
   "source": [
    "Loop through files"
   ]
  },
  {
   "cell_type": "code",
   "execution_count": 3,
   "metadata": {
    "id": "3LM3NXpQ4_Br"
   },
   "outputs": [],
   "source": [
    "coordFiles = glob.glob(\"*.xyz\")\n",
    "for num, coordFile in enumerate(coordFiles):\n",
    "  dft.create_g16_input(\n",
    "    fname=f\"sim{num:03}\",\n",
    "    GasRouteSection=GasRouteSection,\n",
    "    PCMRouteSection=PCMRouteSection,\n",
    "    coordFile=coordFile\n",
    "  )\n",
    "  dft.create_slurm_script(\n",
    "    fname=f\"sim{num:03}\",\n",
    "    nodes=nodes,\n",
    "    mem=mem,\n",
    "    partition=partition\n",
    "  )"
   ]
  },
  {
   "cell_type": "markdown",
   "metadata": {
    "id": "Ot4qIcbf5iVF"
   },
   "source": [
    "# Create Arkane Input Files"
   ]
  },
  {
   "cell_type": "markdown",
   "metadata": {
    "id": "5SsBVLlu5oEO"
   },
   "source": [
    "Loop through files"
   ]
  },
  {
   "cell_type": "code",
   "execution_count": null,
   "metadata": {
    "id": "PjcT4bCS5mfn"
   },
   "outputs": [],
   "source": [
    "freqOutput = glob.glob(\"*_gas.log\")\n",
    "PCMOutput = glob.glob(\"*_PCM.log\")\n",
    "\n",
    "for i in range(len(freqOutput)):\n",
    "    dft.create_arkane_input(\n",
    "      f\"sim{i:03}\",\n",
    "      freq_log=freqOutput[i],\n",
    "      #pcm_log=PCMOutput[i],\n",
    "      linear=False,\n",
    "      spinMultiplicity=1,\n",
    "      opticalIsomers=1\n",
    "    )"
   ]
  },
  {
   "cell_type": "markdown",
   "metadata": {
    "id": "fHGloijk6bxT"
   },
   "source": [
    "# pQCT Example"
   ]
  },
  {
   "cell_type": "markdown",
   "metadata": {
    "id": "FuRKcZGh6gJy"
   },
   "source": [
    "Preliminary variables"
   ]
  },
  {
   "cell_type": "code",
   "execution_count": null,
   "metadata": {
    "id": "7R8WjztR6dyg"
   },
   "outputs": [],
   "source": [
    "n_water = [] # shape (N,)\n",
    "temperatures = np.linspace(10, 50, num=20) + 273.15 # shape (20,)"
   ]
  },
  {
   "cell_type": "markdown",
   "metadata": {
    "id": "eXiWh_Ki6kAP"
   },
   "source": [
    "Loop through temps and do gas-phase thermo calc"
   ]
  },
  {
   "cell_type": "code",
   "execution_count": null,
   "metadata": {
    "id": "Ps6qpK8t6tUm"
   },
   "outputs": [],
   "source": [
    "# shape (20,)\n",
    "G_water = []\n",
    "H_water = []\n",
    "S_water = []\n",
    "\n",
    "# shape (20,)\n",
    "G_Na = []\n",
    "H_Na = []\n",
    "S_Na = []\n",
    "\n",
    "# shape (20,N)\n",
    "G_clusters = []\n",
    "H_clusters = []\n",
    "S_clusters = []"
   ]
  },
  {
   "cell_type": "code",
   "execution_count": null,
   "metadata": {
    "id": "sBMbpZGq6yCB"
   },
   "outputs": [],
   "source": [
    "for temp in temperatures:\n",
    "  # water\n",
    "  values = dft.calc_thermo_Arkane(\"templates/refChem.inp\", temp=temp)[1] # H2O\n",
    "  G_water.append(values[3])\n",
    "  H_water.append(values[1])\n",
    "  S_water.append(values[2])\n",
    "  \n",
    "  # ion\n",
    "  values = dft.calc_thermo_Arkane(\"templates/refChem.inp\", temp=temp)[2] # Na+\n",
    "  G_water.append(values[3])\n",
    "  H_water.append(values[1])\n",
    "  S_water.append(values[2])\n",
    "  \n",
    "  # cluster\n",
    "  values = dft.calc_thermo_Arkane(\"templates/clustersChem.inp\", temp=temp) # shape (N,4)\n",
    "  values = np.transpose(values) # shape (4,N)\n",
    "  G_clusters.append(values[3])\n",
    "  H_clusters.append(values[1])\n",
    "  S_clusters.append(values[2])"
   ]
  },
  {
   "cell_type": "code",
   "execution_count": null,
   "metadata": {
    "id": "LCd9xfKl632u"
   },
   "outputs": [],
   "source": [
    "G_water = np.array(G_water)\n",
    "H_water = np.array(H_water)\n",
    "S_water = np.array(S_water)    \n",
    "\n",
    "G_Na = np.array(G_Na)\n",
    "H_Na = np.array(H_Na)\n",
    "S_Na = np.array(S_Na)"
   ]
  },
  {
   "cell_type": "markdown",
   "metadata": {
    "id": "VBS3CtLE66-c"
   },
   "source": [
    "Extract PCM solvation energies"
   ]
  },
  {
   "cell_type": "code",
   "execution_count": null,
   "metadata": {
    "id": "U_jlrGLy6_U-"
   },
   "outputs": [],
   "source": [
    "cluster_PCM_dG = [dGSolvPCM(fname) for fname in PCMOutput]\n",
    "H2O_PCM_dG = dGSolvPCM(\"H2O_PCM.log\")"
   ]
  },
  {
   "cell_type": "markdown",
   "metadata": {
    "id": "scWxYGp07G6_"
   },
   "source": [
    "Free energy **in solution**"
   ]
  },
  {
   "cell_type": "code",
   "execution_count": null,
   "metadata": {
    "id": "oFswYA307KeR"
   },
   "outputs": [],
   "source": [
    "G_aq_283K = [calc_pQCT(G_cluster[0][i], G_water[0], cluster_PCM_dG[0], n_water, dG_solv_H2O=H2O_PCM_dG, temp=temperatures[0])]"
   ]
  },
  {
   "cell_type": "markdown",
   "metadata": {
    "id": "_lw61SvF7MrX"
   },
   "source": [
    "Free energy **of solvation**"
   ]
  },
  {
   "cell_type": "code",
   "execution_count": null,
   "metadata": {
    "id": "LumYk_yw7PFB"
   },
   "outputs": [],
   "source": [
    "dG_solv_283K = G_aq_283K - G_Na[0] - (R * temperatures[0] * np.log(24.46)) # shape (N,)"
   ]
  },
  {
   "cell_type": "markdown",
   "metadata": {
    "id": "kybT-CE57Vdc"
   },
   "source": [
    "Boltzmann Averaging and Bootstrapping"
   ]
  },
  {
   "cell_type": "code",
   "execution_count": null,
   "metadata": {
    "id": "iozyydtB7cOb"
   },
   "outputs": [],
   "source": [
    "R = 0.0019872042586408316  # kcal/(mol*K)\n",
    "beta = [1/(R*temperatures[0]) for i in range(len(dG_solv_283K))]"
   ]
  },
  {
   "cell_type": "code",
   "execution_count": null,
   "metadata": {
    "id": "_2WmONnP7lLe"
   },
   "outputs": [],
   "source": [
    "mid = boltzmannG(dG_solv_283K,beta)\n",
    "bootstrappedCI = st.bootstrap((dG_solv_283K,beta),boltzmannG,paired=True,vectorized=False,n_resamples=10000)\n",
    "lowerBar = bootstrappedCI.confidence_interval[1]-mid\n",
    "upperBar = mid-bootstrappedCI.confidence_interval[0]"
   ]
  }
 ],
 "metadata": {
  "colab": {
   "collapsed_sections": [],
   "name": "DFT_Toolbox_Code_Snippets.ipynb",
   "provenance": []
  },
  "kernelspec": {
   "display_name": "Python 3 (ipykernel)",
   "language": "python",
   "name": "python3"
  },
  "language_info": {
   "codemirror_mode": {
    "name": "ipython",
    "version": 3
   },
   "file_extension": ".py",
   "mimetype": "text/x-python",
   "name": "python",
   "nbconvert_exporter": "python",
   "pygments_lexer": "ipython3",
   "version": "3.8.13"
  }
 },
 "nbformat": 4,
 "nbformat_minor": 1
}
