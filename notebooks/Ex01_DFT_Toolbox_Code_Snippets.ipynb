{
 "cells": [
  {
   "cell_type": "markdown",
   "metadata": {
    "id": "O0cbQvCs4W_4"
   },
   "source": [
    "# Imports"
   ]
  },
  {
   "cell_type": "code",
   "execution_count": 1,
   "metadata": {
    "id": "XaWLJdUL4ad6"
   },
   "outputs": [],
   "source": [
    "import dft_toolbox as dft\n",
    "import numpy as np\n",
    "import scipy.stats as st\n",
    "import glob\n",
    "import matplotlib.pyplot as plt"
   ]
  },
  {
   "cell_type": "markdown",
   "metadata": {
    "id": "PlYuLpqm4lNK"
   },
   "source": [
    "# Create G16 Input Files"
   ]
  },
  {
   "cell_type": "markdown",
   "metadata": {
    "id": "FQgTF9MS4tDK"
   },
   "source": [
    "Variables"
   ]
  },
  {
   "cell_type": "code",
   "execution_count": 2,
   "metadata": {
    "id": "JXtx70By4okK"
   },
   "outputs": [],
   "source": [
    "nodes = 5\n",
    "mem = 91\n",
    "partition = \"mpiqdr\"\n",
    "\n",
    "GasRouteSection = \"rb3lyp/aug-cc-pvdz empiricaldispersion=gd3 int(grid=ultrafine, acc2e=11) scf=(tight,maxcycles=500) iop(1/152=1000) opt=(maxcycles=1000,cartesian) freq=noraman nosymm\"\n",
    "# opt=(maxstep=1) iop(1/8=1)\n",
    "PCMRouteSection = \"geom=check rb3lyp-aug-cc-pvdz empiricaldispersion=gd3 int(grid=ultrafine, acc2e=11) scf=(tight,maxcycles=500) scrf=(iefpcm,solvent=water,externaliteration,1stvac,read) nosymm\""
   ]
  },
  {
   "cell_type": "markdown",
   "metadata": {
    "id": "6fXkRAIO46ho"
   },
   "source": [
    "Loop through files"
   ]
  },
  {
   "cell_type": "code",
   "execution_count": 3,
   "metadata": {
    "id": "3LM3NXpQ4_Br"
   },
   "outputs": [],
   "source": [
    "coordFiles = glob.glob(\"Ex01_supporting_files/*.xyz\")\n",
    "for num, coordFile in enumerate(coordFiles):\n",
    "  dft.create_g16_input(\n",
    "    fname=f\"sim{num:03}\",\n",
    "    GasRouteSection=GasRouteSection,\n",
    "    PCMRouteSection=PCMRouteSection,\n",
    "    coordFile=coordFile\n",
    "  )\n",
    "  dft.create_slurm_script(\n",
    "    fname=f\"sim{num:03}\",\n",
    "    filename_g16=f\"sim{num:03}\",\n",
    "    nodes=nodes,\n",
    "    mem=mem,\n",
    "    partition=partition\n",
    "  )"
   ]
  },
  {
   "cell_type": "markdown",
   "metadata": {
    "id": "Ot4qIcbf5iVF"
   },
   "source": [
    "# Create Arkane Input Files"
   ]
  },
  {
   "cell_type": "markdown",
   "metadata": {
    "id": "5SsBVLlu5oEO"
   },
   "source": [
    "Loop through files"
   ]
  },
  {
   "cell_type": "code",
   "execution_count": 4,
   "metadata": {
    "id": "PjcT4bCS5mfn"
   },
   "outputs": [],
   "source": [
    "freqOutput = glob.glob(\"Ex01_supporting_files/*_gas.log\")\n",
    "PCMOutput = glob.glob(\"Ex01_supporting_files/*_PCM.log\")\n",
    "\n",
    "for i in range(len(freqOutput)):\n",
    "    dft.create_arkane_input(\n",
    "      f\"sim{i:03}\",\n",
    "      freq_log=freqOutput[i],\n",
    "      #pcm_log=PCMOutput[i],\n",
    "      linear=False,\n",
    "      spinMultiplicity=1,\n",
    "      opticalIsomers=1,\n",
    "      kwargs_lot={\"method\": \"B3LYP\", \"basis\": \"aug-cc-pVDZ\"}\n",
    "    )"
   ]
  },
  {
   "cell_type": "markdown",
   "metadata": {
    "id": "fHGloijk6bxT"
   },
   "source": [
    "# pQCT Example with 50 Completed Clusters"
   ]
  },
  {
   "cell_type": "markdown",
   "metadata": {
    "id": "FuRKcZGh6gJy"
   },
   "source": [
    "Preliminary variables"
   ]
  },
  {
   "cell_type": "code",
   "execution_count": 5,
   "metadata": {
    "id": "7R8WjztR6dyg"
   },
   "outputs": [],
   "source": [
    "n_water = [5 for i in range(50)] # shape (N,)\n",
    "temperatures = np.linspace(10, 50, num=20) + 273.15 # shape (20,)"
   ]
  },
  {
   "cell_type": "markdown",
   "metadata": {
    "id": "eXiWh_Ki6kAP"
   },
   "source": [
    "### Gas Phase Thermo Calculations\n",
    "Loop through temperatures"
   ]
  },
  {
   "cell_type": "code",
   "execution_count": 19,
   "metadata": {
    "id": "Ps6qpK8t6tUm"
   },
   "outputs": [],
   "source": [
    "# shape (20,)\n",
    "G_water = []\n",
    "G_Na = []\n",
    "G_clusters = []"
   ]
  },
  {
   "cell_type": "code",
   "execution_count": 20,
   "metadata": {
    "id": "sBMbpZGq6yCB"
   },
   "outputs": [
    {
     "name": "stdout",
     "output_type": "stream",
     "text": [
      "[-247.9360456  -245.35682012 -247.94293733 -245.40245133 -245.39746701\n",
      " -245.3993559  -245.40114083 -248.5359254  -245.39933083 -245.62384138\n",
      " -245.39856107 -245.39624916 -247.9446442  -245.36697877 -245.39986564\n",
      " -245.40141652 -245.40147799 -244.82428667 -245.36061522 -245.39664481\n",
      " -245.39058053 -244.97907855 -247.95611283 -245.55596341 -245.39588895\n",
      " -247.93404004 -247.98448531 -245.41844669 -245.40308681 -245.38827872\n",
      " -245.38884719 -245.39419352 -245.39589954 -245.38688901 -248.91066469\n",
      " -245.3959155  -245.40220325 -245.39492827 -245.39271056 -247.94479179\n",
      " -249.55863413 -245.3770367  -247.93860292 -245.38580035 -247.9257134\n",
      " -245.39292924 -245.38843924 -245.39761763 -245.39491391 -245.3599062 ]\n"
     ]
    }
   ],
   "source": [
    "for temp in temperatures:\n",
    "  # water\n",
    "  values = dft.calc_thermo_Arkane(\"Ex01_supporting_files/refChem.inp\", temperature=temp)[1] # H2O\n",
    "  G_water.append(values[3])\n",
    "  \n",
    "  # ion\n",
    "  values = dft.calc_thermo_Arkane(\"Ex01_supporting_files/refChem.inp\", temperature=temp)[2] # Na+\n",
    "  G_Na.append(values[3])\n",
    "  \n",
    "  # cluster\n",
    "  values = dft.calc_thermo_Arkane(\"Ex01_supporting_files/clustersChem.inp\", temperature=temp) # shape (N,4)\n",
    "  values = np.transpose(values) # shape (4,N)\n",
    "  G_clusters.append(values[3])\n",
    "#  H_clusters.append(values[1])\n",
    "#  S_clusters.append(values[2])\n",
    "\n",
    "print(G_clusters[0])"
   ]
  },
  {
   "cell_type": "code",
   "execution_count": 21,
   "metadata": {
    "id": "LCd9xfKl632u"
   },
   "outputs": [
    {
     "name": "stdout",
     "output_type": "stream",
     "text": [
      "[-247.9360456  -245.35682012 -247.94293733 -245.40245133 -245.39746701\n",
      " -245.3993559  -245.40114083 -248.5359254  -245.39933083 -245.62384138\n",
      " -245.39856107 -245.39624916 -247.9446442  -245.36697877 -245.39986564\n",
      " -245.40141652 -245.40147799 -244.82428667 -245.36061522 -245.39664481\n",
      " -245.39058053 -244.97907855 -247.95611283 -245.55596341 -245.39588895\n",
      " -247.93404004 -247.98448531 -245.41844669 -245.40308681 -245.38827872\n",
      " -245.38884719 -245.39419352 -245.39589954 -245.38688901 -248.91066469\n",
      " -245.3959155  -245.40220325 -245.39492827 -245.39271056 -247.94479179\n",
      " -249.55863413 -245.3770367  -247.93860292 -245.38580035 -247.9257134\n",
      " -245.39292924 -245.38843924 -245.39761763 -245.39491391 -245.3599062 ]\n"
     ]
    }
   ],
   "source": [
    "G_water = np.array(G_water)\n",
    "G_Na = np.array(G_Na)\n",
    "G_clusters = np.array(G_clusters)\n",
    "\n",
    "print(G_clusters[0])"
   ]
  },
  {
   "cell_type": "markdown",
   "metadata": {
    "id": "VBS3CtLE66-c"
   },
   "source": [
    "### Extract PCM solvation energies"
   ]
  },
  {
   "cell_type": "code",
   "execution_count": 22,
   "metadata": {
    "id": "U_jlrGLy6_U-"
   },
   "outputs": [
    {
     "name": "stdout",
     "output_type": "stream",
     "text": [
      "[-35.36, -35.36, -35.36, -35.36, -35.36, -38.58, -32.67, -32.66, -32.67, -35.37]\n"
     ]
    }
   ],
   "source": [
    "cluster_PCM_dG = [dft.dGSolvPCM(fname) for fname in PCMOutput]\n",
    "H2O_PCM_dG = dft.dGSolvPCM(\"Ex01_supporting_files/H2O_pcm_gsolv.log\")\n",
    "print(cluster_PCM_dG)"
   ]
  },
  {
   "cell_type": "markdown",
   "metadata": {
    "id": "scWxYGp07G6_"
   },
   "source": [
    "Free energy **in solution** for first 10 samples"
   ]
  },
  {
   "cell_type": "code",
   "execution_count": 23,
   "metadata": {
    "id": "oFswYA307KeR"
   },
   "outputs": [
    {
     "name": "stdout",
     "output_type": "stream",
     "text": [
      "[39.90834375648746, 42.487569227221236, 39.901452021915624, 42.44193802641917, 42.44692234379233, 39.22503345292612, 45.13324851854586, 42.008463950441175, 45.13505852151213, 42.210547975810925]\n"
     ]
    }
   ],
   "source": [
    "G_aq_283K = [dft.calc_pQCT(G_clusters[0][i], G_water[0], cluster_PCM_dG[i], n_water[i], dG_solv_H2O=H2O_PCM_dG, temp=temperatures[0]) for i in range(10)]\n",
    "print(G_aq_283K)"
   ]
  },
  {
   "cell_type": "markdown",
   "metadata": {
    "id": "_lw61SvF7MrX"
   },
   "source": [
    "Free energy **of solvation**"
   ]
  },
  {
   "cell_type": "code",
   "execution_count": 24,
   "metadata": {
    "id": "LumYk_yw7PFB"
   },
   "outputs": [],
   "source": [
    "R = 0.0019872042586408316  # kcal/(mol*K)"
   ]
  },
  {
   "cell_type": "code",
   "execution_count": 25,
   "metadata": {
    "id": "iozyydtB7cOb"
   },
   "outputs": [
    {
     "name": "stdout",
     "output_type": "stream",
     "text": [
      "[-102.00113022  -99.42190475 -102.00802196  -99.46753595  -99.46255163\n",
      " -102.68444052  -96.77622546  -99.90101003  -96.77441546  -99.698926  ]\n"
     ]
    }
   ],
   "source": [
    "dG_solv_283K = G_aq_283K - G_Na[0] - (R * temperatures[0] * np.log(24.46)) # shape (N,)\n",
    "print(dG_solv_283K)"
   ]
  },
  {
   "cell_type": "markdown",
   "metadata": {
    "id": "kybT-CE57Vdc"
   },
   "source": [
    "Boltzmann Averaging and Bootstrapping"
   ]
  },
  {
   "cell_type": "code",
   "execution_count": 26,
   "metadata": {
    "id": "_2WmONnP7lLe"
   },
   "outputs": [
    {
     "name": "stdout",
     "output_type": "stream",
     "text": [
      "-102.39288908405706\n",
      "0.569640964348963\n",
      "0.28001156300126695\n"
     ]
    }
   ],
   "source": [
    "beta = [1/(R*temperatures[0]) for i in range(len(dG_solv_283K))]\n",
    "\n",
    "mid = dft.boltzmannG(dG_solv_283K,beta)\n",
    "bootstrappedCI = st.bootstrap((dG_solv_283K,beta),dft.boltzmannG,paired=True,vectorized=False,n_resamples=10000)\n",
    "lowerBar = bootstrappedCI.confidence_interval[1]-mid\n",
    "upperBar = mid-bootstrappedCI.confidence_interval[0]\n",
    "\n",
    "print(mid)\n",
    "print(lowerBar)\n",
    "print(upperBar)"
   ]
  },
  {
   "cell_type": "code",
   "execution_count": 27,
   "metadata": {},
   "outputs": [],
   "source": [
    "import os\n",
    "\n",
    "try:\n",
    "    os.remove(\"input.py\")\n",
    "except:\n",
    "    pass\n",
    "files = glob.glob(\"sim*\")\n",
    "for file in files:\n",
    "    os.remove(file)"
   ]
  },
  {
   "cell_type": "code",
   "execution_count": null,
   "metadata": {},
   "outputs": [],
   "source": []
  },
  {
   "cell_type": "code",
   "execution_count": null,
   "metadata": {},
   "outputs": [],
   "source": []
  }
 ],
 "metadata": {
  "colab": {
   "collapsed_sections": [],
   "name": "DFT_Toolbox_Code_Snippets.ipynb",
   "provenance": []
  },
  "kernelspec": {
   "display_name": "Python 3",
   "language": "python",
   "name": "python3"
  },
  "language_info": {
   "codemirror_mode": {
    "name": "ipython",
    "version": 3
   },
   "file_extension": ".py",
   "mimetype": "text/x-python",
   "name": "python",
   "nbconvert_exporter": "python",
   "pygments_lexer": "ipython3",
   "version": "3.9.5"
  }
 },
 "nbformat": 4,
 "nbformat_minor": 1
}
